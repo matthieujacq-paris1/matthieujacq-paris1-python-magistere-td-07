{
 "cells": [
  {
   "cell_type": "markdown",
   "metadata": {},
   "source": [
    "> ### Vérification de la configuration\n",
    "> Vérifiez que Python et les tests fonctionnent correctement en exécutant les deux cellules ci-dessous."
   ]
  },
  {
   "cell_type": "code",
   "execution_count": null,
   "metadata": {},
   "outputs": [],
   "source": [
    "print(\"✅ Python works!\")\n",
    "from sys import version\n",
    "print(version)"
   ]
  },
  {
   "cell_type": "code",
   "execution_count": null,
   "metadata": {},
   "outputs": [],
   "source": [
    "import ipytest\n",
    "ipytest.autoconfig()\n",
    "ipytest.clean()\n",
    "def test_all_good():\n",
    "    assert \"🐍\" == \"🐍\"\n",
    "ipytest.run()"
   ]
  },
  {
   "cell_type": "markdown",
   "metadata": {},
   "source": [
    "# Python bytecode\n",
    "\n",
    "## Comment python lit vos programmes ?\n",
    "\n",
    "On distingue deux grandes familles de langages de programmation :\n",
    "- **Langages interprétés** : le code source est exécuté directement par un interpréteur. Exemples : Python, Ruby, JavaScript.\n",
    "- **Langages compilés** : le code source est traduit en langage machine avant d'être exécuté. Exemples : C, C++, Rust.\n",
    "\n",
    "On classe python comme **langage interprété**, mais en réalité, il est un peu des deux.\n",
    "\n",
    "Schématiquement, l'exécution d'un programme Python se déroule en deux étapes :\n",
    "- Une phase de **compilation** : le code source est traduit en un langage intermédiaire appelé **bytecode CPython**.\n",
    "    - Le bytecode est stocké dans des fichiers `.pyc` (ou `__pycache__` dans les versions plus récentes de Python) pour éviter de le recompiler à chaque exécution du programme.\n",
    "    - La réutilisation du bytecode permet d'**accélérer le démarrage des programmes** Python.\n",
    "- Une phase **d'exécution** : le bytecode est exécuté par une machine virtuelle Python (PVM) (c'est à dire qu'il est transformé en langage machine et envoyé au processeur).\n",
    "\n",
    "![python interpreter](img/bytecode.png)\n",
    "\n",
    "> **Note** : le bytecode est spécifique à l'implémentation CPython de Python. D'autres implémentations (Jython, IronPython, PyPy, etc.) peuvent utiliser d'autres formats de bytecode.\n",
    "\n",
    "> **Note** : les fichiers `.pyc` peuvent être importés directement au lieu des fichiers `.py` correspondants. Cela permet d'accélérer le chargement initial des modules et paquets ainsi compilés. On peut aussi les supprimer pour forcer la recompilation du code source. \n",
    "\n",
    "## Exercice\n",
    "\n",
    "Dans le TD 3 et 5, vous avez créé des modules python.\n",
    "1. Retrouvez les fichiers `.pyc` correspondants dans le répertoire `__pycache__` de votre répertoire de travail de l'un de ces TD.\n",
    "2. Ouvrez un fichier `.pyc` avec un éditeur de texte. Que pouvez-vous en déduire sur son contenu ?"
   ]
  },
  {
   "cell_type": "code",
   "execution_count": null,
   "metadata": {},
   "outputs": [],
   "source": [
    "# 🏖️ Sandbox for testing code\n"
   ]
  }
 ],
 "metadata": {
  "kernelspec": {
   "display_name": "Python 3",
   "language": "python",
   "name": "python3"
  },
  "language_info": {
   "codemirror_mode": {
    "name": "ipython",
    "version": 3
   },
   "file_extension": ".py",
   "mimetype": "text/x-python",
   "name": "python",
   "nbconvert_exporter": "python",
   "pygments_lexer": "ipython3",
   "version": "3.11.5"
  }
 },
 "nbformat": 4,
 "nbformat_minor": 2
}
