{
 "cells": [
  {
   "cell_type": "markdown",
   "metadata": {},
   "source": [
    "> ### Vérification de la configuration\n",
    "> Vérifiez que Python et les tests fonctionnent correctement en exécutant les deux cellules ci-dessous."
   ]
  },
  {
   "cell_type": "code",
   "execution_count": null,
   "metadata": {},
   "outputs": [],
   "source": [
    "print(\"✅ Python works!\")\n",
    "from sys import version\n",
    "print(version)"
   ]
  },
  {
   "cell_type": "code",
   "execution_count": null,
   "metadata": {},
   "outputs": [],
   "source": [
    "import ipytest\n",
    "ipytest.autoconfig()\n",
    "ipytest.clean()\n",
    "def test_all_good():\n",
    "    assert \"🐍\" == \"🐍\"\n",
    "ipytest.run()"
   ]
  },
  {
   "cell_type": "markdown",
   "metadata": {},
   "source": [
    "# Parmètres avancés de fonctions : default, *args et **kwargs\n",
    "\n",
    "## Les paramètres par défaut\n",
    "\n",
    "Les paramètres par défaut sont des valeurs que vous pouvez spécifier pour les paramètres d'une fonction. Si vous ne fournissez pas de valeur pour un paramètre, la valeur par défaut sera utilisée.\n",
    "\n",
    "```python\n",
    "def my_name(name='Anonymous'):\n",
    "    print(f\"Hello {name}!\")\n",
    "\n",
    "my_name('Matthieu') # Hello Matthieu!\n",
    "my_name() # Hello Anonymous!\n",
    "```\n",
    "\n",
    "Les paramètres par défaut doivent toujours être **placés après** les paramètres sans valeur par défaut.\n",
    "\n",
    "```python\n",
    "def my_name(age, name='Anonymous'): # ✅\n",
    "    print(f\"Hello {name}! You are {age} years old.\")\n",
    "\n",
    "# def my_name(name='Anonymous', age): # ❌ SyntaxError: non-default argument follows default argument\n",
    "#     print(f\"Hello {name}! You are {age} years old.\")\n",
    "\n",
    "def my_name(name='Anonymous', age=18): # ✅\n",
    "    print(f\"Hello {name}! You are {age} years old.\")\n",
    "```\n",
    "\n",
    "## Les paramètres positionnels et nommés\n",
    "\n",
    "En principe les paramètres sont **positionnels**, c'est-à-dire que l'ordre des arguments lors de l'appel de la fonction doit correspondre à l'ordre des paramètres de la fonction.\n",
    "\n",
    "```python\n",
    "def identity(name, age):\n",
    "    print(f\"Name: {name}\")\n",
    "    print(f\"Age: {age}\")\n",
    "identity('Matthieu', 77) # ✅\n",
    "identity(77, 'Matthieu') # ❌\n",
    "```\n",
    "\n",
    "Un **paramètres nommé** est un paramètres qui est précédé du nom du paramètre suivi d'un égal `=`. Cela permet de ne pas respecter l'ordre des paramètres de la fonction.\n",
    "\n",
    "> On avait aussi vu ce type d'appel par exemple dans `timedelta(days=1, seconds=1)`.\n",
    "\n",
    "```python\n",
    "def identity(name, age):\n",
    "    print(f\"Name: {name}\")\n",
    "    print(f\"Age: {age}\")\n",
    "identity(age=77, name='Matthieu') # ✅\n",
    "identity(name='Matthieu', age=77) # ✅\n",
    "```\n",
    "\n",
    "## Les paraamètres positionnels en nombre variables *args\n",
    "\n",
    "Il est possible de précéder le dernier paramètre positionnel d'une étoile `*` : cela signifie que la fonction peut accepter un nombre variable d'arguments positionnels. C'est par exemple le cas de la fonction `print`.\n",
    "\n",
    "Ces arguments sont alors stockés dans un tuple.\n",
    "\n",
    "```python\n",
    "print('a') # a\n",
    "print('a', 'b', 'c') # a b c\n",
    "\n",
    "def my_print(*args):\n",
    "    for arg in args:\n",
    "        print(arg)\n",
    "\n",
    "my_print('a') # a\n",
    "my_print('a', 'b', 'c') # a b c\n",
    "\n",
    "def identity(name, *aliases):\n",
    "    print(f\"Name: {name}\")\n",
    "    if aliases:\n",
    "        print(f\"Aliases: {', '.join(aliases)}\")\n",
    "identity('Matthieu') # Name: Matthieu\n",
    "identity('Matthieu', 'Matty', 'M', 'Sanglier de Cornouailles', \"Coco l'asticot\") # Name: Matthieu\\n Aliases: Matty, M, Sanglier de Cornouailles, Coco l'asticot\n",
    "```\n",
    "\n",
    "> **Remarque**: on peut mettre des paramètres avec valeur par défaut après les *args, ils seront alors considérés comme des paramètres nommés uniquement.\n",
    "> ```python\n",
    "> def string_to_print(*args, sep=' ', end='\\n'):\n",
    ">    return sep.join(args) + end\n",
    ">\n",
    "> print(string_to_print('a', 'b')) # a b\\n\n",
    "> print(string_to_print('a', 'b', sep=', ', end='!')) # a, b!\n",
    "> ```\n",
    "\n",
    "## Les paramètres nommés en nombre variable : **kwargs (keyword arguments)\n",
    "\n",
    "En dernier paramètre, après les paramètres positionnels, on ajouter un paramètre précédé de deux étoiles `**` : cela signifie que la fonction peut accepter un nombre variable d'arguments nommés. \n",
    "C'est par exemple le cas encore de la fonction `print` qui accepte des paramètres nommés comme `sep` et `end`.\n",
    "\n",
    "Ces arguments sont alors stockés dans un dictionnaire.\n",
    "\n",
    "```python\n",
    "\n",
    "\n",
    "def identity(name, **other_infos):\n",
    "    print(f\"Name: {name}\")\n",
    "    if other_infos:\n",
    "        print(\"Other infos:\")\n",
    "        for key, value in other_infos.items():\n",
    "            print(f\"-  {key}: {value}\")\n",
    "identity('Matthieu') # Name: Matthieu\n",
    "identity('Matthieu', age=77, job='Teacher', city='Paris')\n",
    "# Name: Matthieu\n",
    "# Other infos:\n",
    "# - age: 77\n",
    "# - job: Teacher\n",
    "# - city: Paris\n",
    "```\n",
    "\n",
    "> **Tip**: vous pouvez aussi utiliser la méthode `.get` des dictionnaires pour récupérer une valeur spécifique de votre kwargs.\n",
    "\n",
    "## Exercices\n",
    "1. Écrivez une fonction `my_sum` qui prend un nombre variable d'arguments et retourne la somme de ces arguments.\n",
    "2. Écrivez une fonction `concatenate` qui prend un nombre variable d'arguments et retourne la concaténation de ces arguments.\n",
    "3. 🎊 Écrivez une fonction `improved_concatenate` qui concatène un nombre variable d'arguments et peut aussi prendre un paramètre nommé `reverse`, qui concatènera dans l'ordre inverse si `reverse=True` lors de l'appel.\n",
    "\n",
    "\n"
   ]
  },
  {
   "cell_type": "code",
   "execution_count": null,
   "metadata": {},
   "outputs": [],
   "source": [
    "# 🏖️ Sandbox for testing code\n"
   ]
  },
  {
   "cell_type": "code",
   "execution_count": null,
   "metadata": {},
   "outputs": [],
   "source": [
    "# 1. Écrivez une fonction `my_sum` qui prend un nombre variable d'arguments et retourne la somme de ces arguments. (ne pas utiliser la fonction `sum` de Python)\n"
   ]
  },
  {
   "cell_type": "code",
   "execution_count": null,
   "metadata": {},
   "outputs": [],
   "source": [
    "# 🧪\n",
    "ipytest.clean()\n",
    "def test_sum():\n",
    "    assert my_sum(1, 2, 3) == 6\n",
    "    assert my_sum(1, 2, 3, 4) == 10\n",
    "    assert my_sum(1, 2, 3, 4, 5) == 15\n",
    "ipytest.run()"
   ]
  },
  {
   "cell_type": "code",
   "execution_count": null,
   "metadata": {},
   "outputs": [],
   "source": [
    "# 2. Écrivez une fonction `concatenate` qui prend un nombre variable d'arguments et retourne la concaténation de ces arguments.\n"
   ]
  },
  {
   "cell_type": "code",
   "execution_count": null,
   "metadata": {},
   "outputs": [],
   "source": [
    "# 🧪\n",
    "ipytest.clean()\n",
    "def test_concatenate():\n",
    "    assert concatenate(\"a\", \"b\", \"c\") == \"abc\"\n",
    "    assert concatenate(\"a\", \"b\", \"c\", \"d\") == \"abcd\"\n",
    "    assert concatenate(\"a\", \"b\", \"c\", \"d\", \"e\") == \"abcde\"\n",
    "ipytest.run()"
   ]
  },
  {
   "cell_type": "code",
   "execution_count": null,
   "metadata": {},
   "outputs": [],
   "source": [
    "# 3. 🎊 Écrivez une fonction `improved_concatenate` qui concatène un nombre variable d'arguments et peut aussi prendre un paramètre nommé `reverse`, qui concatènera dans l'ordre inverse si `reverse=True` lors de l'appel.\n"
   ]
  },
  {
   "cell_type": "code",
   "execution_count": null,
   "metadata": {},
   "outputs": [],
   "source": [
    "# 🧪\n",
    "ipytest.clean()\n",
    "def test_improved_concatenate():\n",
    "    assert improved_concatenate(\"a\", \"b\", \"c\") == \"abc\"\n",
    "    assert improved_concatenate(\"a\", \"b\", \"c\", \"d\") == \"abcd\"\n",
    "    assert improved_concatenate(\"a\", \"b\", \"c\", \"d\", \"e\") == \"abcde\"\n",
    "    assert improved_concatenate(\"a\", \"b\", \"c\", \"d\", \"e\", reverse=True) == \"edcba\"\n",
    "\n",
    "ipytest.run()"
   ]
  }
 ],
 "metadata": {
  "kernelspec": {
   "display_name": "Python 3",
   "language": "python",
   "name": "python3"
  },
  "language_info": {
   "codemirror_mode": {
    "name": "ipython",
    "version": 3
   },
   "file_extension": ".py",
   "mimetype": "text/x-python",
   "name": "python",
   "nbconvert_exporter": "python",
   "pygments_lexer": "ipython3",
   "version": "3.11.5"
  }
 },
 "nbformat": 4,
 "nbformat_minor": 2
}
